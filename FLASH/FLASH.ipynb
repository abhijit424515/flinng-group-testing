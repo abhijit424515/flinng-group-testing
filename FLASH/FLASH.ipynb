{
 "cells": [
  {
   "cell_type": "markdown",
   "metadata": {},
   "source": [
    "# FLASH Implementation"
   ]
  },
  {
   "cell_type": "markdown",
   "metadata": {},
   "source": [
    "Importing helpful packages"
   ]
  },
  {
   "cell_type": "code",
   "execution_count": null,
   "metadata": {},
   "outputs": [],
   "source": [
    "import numpy as np\n",
    "import pandas as pd\n",
    "import random"
   ]
  },
  {
   "cell_type": "code",
   "execution_count": 3,
   "metadata": {},
   "outputs": [],
   "source": [
    "### Helper function : DOPH\n",
    "\n",
    "def DOPH(Datapoint, K, N, C = -1):\n",
    "    \"\"\"\n",
    "    Datapoint : Data (will be converted to binary and then it will be zero-padded till it has size N)\n",
    "    N : Size of Datapoint (Should be the maximum size possible for this format)\n",
    "    K : Size of output of one table of LSH\n",
    "    \"\"\"\n",
    "    if N%K != 0:\n",
    "        N = N + K - N%K # Made N a multiple of K\n",
    "    binary_string = bin(Datapoint)[2:]  # Convert to binary string and remove prefix\n",
    "    binary_array = binary_string.zfill(N)  # Zero-pad the binary string to size N\n",
    "    permuted_array = np.random.permutation(binary_array)\n",
    "    divided_arrays = np.reshape(permuted_array, (N//K, K)) # each of the rows now is one of the chunks\n",
    "    non_zero_indices = [next((i for i, val in enumerate(row) if val != '0'), C) for row in divided_arrays]\n",
    "    for i in range(len(non_zero_indices)):\n",
    "        if non_zero_indices[i] == C:\n",
    "            j = (i + 1) % len(non_zero_indices)\n",
    "            while j != i:\n",
    "                if non_zero_indices[j] != C:\n",
    "                    non_zero_indices[i] = non_zero_indices[j]\n",
    "                    break\n",
    "                j = (j + 1) % len(non_zero_indices)\n",
    "    return non_zero_indices"
   ]
  },
  {
   "cell_type": "code",
   "execution_count": null,
   "metadata": {},
   "outputs": [],
   "source": [
    "### Helper function : MapKHashesToAddress\n",
    "\n",
    "def MapKHashesToAddress(Hash_tuple, Table_row, a, b):\n",
    "    \n",
    "    return Key"
   ]
  },
  {
   "cell_type": "code",
   "execution_count": 5,
   "metadata": {},
   "outputs": [],
   "source": [
    "### Helper function : ReservoirSampling\n",
    "import random\n",
    "\n",
    "def ReservoirSampling(Reservoir, Stream):\n",
    "    R = len(Reservoir)\n",
    "    m = len(Stream)\n",
    "    \n",
    "    for i in range(R):\n",
    "        Reservoir[i] = Stream[i]\n",
    "    \n",
    "    for i in range(R, m):\n",
    "        j = random.randint(0, i)\n",
    "        if j < R:\n",
    "            Reservoir[j] = Stream[i]"
   ]
  },
  {
   "cell_type": "code",
   "execution_count": null,
   "metadata": {},
   "outputs": [],
   "source": [
    "def create_Tables(): # all variables it creates are global\n",
    "    \"\"\"\n",
    "        w : Size of each table\n",
    "        L : Number of tables\n",
    "        K : number of hashfunctions per row\n",
    "    \"\"\"\n",
    "    global Tables, a_array, b_array\n",
    "    Tables = np.zeros(L, w, K) \n",
    "    a_array = np.zeros(L, K)\n",
    "    b_array = np.zeros(L, 1)\n",
    "    for i in range(L): # For each table\n",
    "        a_array[i] = np.random.normal(0, 1, K)\n",
    "        b_array[i] = np.random.uniform(0, w)"
   ]
  },
  {
   "cell_type": "code",
   "execution_count": null,
   "metadata": {},
   "outputs": [],
   "source": [
    "## Algorithm 2 The Adding Phase (Co-Pilot)\n",
    "import random\n",
    "\n",
    "def Add(DataPoint, Table, Key, Empty=None):\n",
    "    if Table[Key] == Empty:\n",
    "        Table[Key] = AllocateReservoir()\n",
    "        ReservoirCounter = 0\n",
    "    Rand = random.randint(0, ReservoirCounter)\n",
    "    if Rand < R:\n",
    "        Reservoir[Rand] = DataPoint\n",
    "    ReservoirCounter += 1\n",
    "\n",
    "def Adding_Phase(DataPoints):\n",
    "    [L, w, K] = np.shape(Tables)\n",
    "    [_, N] = np.shape(DataPoints) # N is the dimensionality of our data\n",
    "    for DataPoint in DataPoints:\n",
    "        Hash_tuples = DOPH(DataPoint, K, N) # Returns back K hashes\n",
    "        for i in range(L):\n",
    "            Key = MapKHashesToAddress(Hash_tuples[i], a_array[i], b_array[i])\n",
    "            Add(DataPoint, Tables[i], Key)\n",
    "\n",
    "## Algorithm 3 The Querying Phase (Co-Pilot)\n",
    "def Querying_Phase(QueryPoints, Tables, TopK, a_array, b_array):\n",
    "    [L, w, K] = np.shape(Tables)\n",
    "    results = []\n",
    "    for QueryPoint in QueryPoints:\n",
    "        Hash_tuples = DOPH(QueryPoint)\n",
    "        A = []\n",
    "        for i in range(L):\n",
    "            Key = MapKHashesToAddress(Hash_tuples[i], a_array[i], b_array[i])\n",
    "            A.append(Table[Key])\n",
    "        i = KSelect(A, TopK)\n",
    "        results.append(i)\n",
    "    return results\n",
    "\n",
    "def KSelect(A, TopK):\n",
    "    A.sort()\n",
    "    KV_Pair = CountFrequency(A)\n",
    "    KV_Pair.sort(key=lambda x: x[1], reverse=True)\n",
    "    return KV_Pair[:TopK]\n",
    "\n",
    "def CountFrequency(A):\n",
    "    KV_Pair = {}\n",
    "    for Key in A:\n",
    "        if Key in KV_Pair:\n",
    "            KV_Pair[Key] += 1\n",
    "        else:\n",
    "            KV_Pair[Key] = 1\n",
    "    return KV_Pair"
   ]
  },
  {
   "cell_type": "code",
   "execution_count": null,
   "metadata": {},
   "outputs": [],
   "source": [
    "global L, w, K\n",
    "L = 100\n",
    "K = 10\n",
    "w = 100\n",
    "create_Tables() # Empty tables as well as the corresponding mapping functions have been initialized\n"
   ]
  },
  {
   "cell_type": "code",
   "execution_count": null,
   "metadata": {},
   "outputs": [],
   "source": []
  }
 ],
 "metadata": {
  "kernelspec": {
   "display_name": "Python 3",
   "language": "python",
   "name": "python3"
  },
  "language_info": {
   "codemirror_mode": {
    "name": "ipython",
    "version": 3
   },
   "file_extension": ".py",
   "mimetype": "text/x-python",
   "name": "python",
   "nbconvert_exporter": "python",
   "pygments_lexer": "ipython3",
   "version": "3.11.8"
  }
 },
 "nbformat": 4,
 "nbformat_minor": 2
}
